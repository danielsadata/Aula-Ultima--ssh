{
  "nbformat": 4,
  "nbformat_minor": 0,
  "metadata": {
    "colab": {
      "provenance": [],
      "authorship_tag": "ABX9TyMowrjReJQwqZR9bRqLbFHz",
      "include_colab_link": true
    },
    "kernelspec": {
      "name": "python3",
      "display_name": "Python 3"
    },
    "language_info": {
      "name": "python"
    }
  },
  "cells": [
    {
      "cell_type": "markdown",
      "metadata": {
        "id": "view-in-github",
        "colab_type": "text"
      },
      "source": [
        "<a href=\"https://colab.research.google.com/github/danielsadata/Aula-Ultima--ssh/blob/main/Fun%C3%A7%C3%A3oCalculo_pagamento.ipynb\" target=\"_parent\"><img src=\"https://colab.research.google.com/assets/colab-badge.svg\" alt=\"Open In Colab\"/></a>"
      ]
    },
    {
      "cell_type": "code",
      "execution_count": null,
      "metadata": {
        "id": "GdubdYaJQozm"
      },
      "outputs": [],
      "source": [
        "def calculo_pagamento():\n",
        "  hora_trabalhada = float (x) \n",
        "  valor_hora = 10\n",
        "  print('O valor a ser pago ao funcionário é',hora_trabalhada * valor_hora, 'R$')\n",
        "\n",
        "x=input('Quantas horas trabalhadas', )\n",
        "calculo_pagamento()\n",
        "\n",
        "\n"
      ]
    }
  ]
}