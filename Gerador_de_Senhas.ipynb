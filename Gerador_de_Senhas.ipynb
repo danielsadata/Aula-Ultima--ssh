{
  "nbformat": 4,
  "nbformat_minor": 0,
  "metadata": {
    "colab": {
      "provenance": [],
      "authorship_tag": "ABX9TyN9X0a9sFkBn3c8fY6R6WN9",
      "include_colab_link": true
    },
    "kernelspec": {
      "name": "python3",
      "display_name": "Python 3"
    },
    "language_info": {
      "name": "python"
    }
  },
  "cells": [
    {
      "cell_type": "markdown",
      "metadata": {
        "id": "view-in-github",
        "colab_type": "text"
      },
      "source": [
        "<a href=\"https://colab.research.google.com/github/danielsadata/Aula-Ultima--ssh/blob/main/Gerador_de_Senhas.ipynb\" target=\"_parent\"><img src=\"https://colab.research.google.com/assets/colab-badge.svg\" alt=\"Open In Colab\"/></a>"
      ]
    },
    {
      "cell_type": "code",
      "execution_count": null,
      "metadata": {
        "colab": {
          "base_uri": "https://localhost:8080/"
        },
        "id": "Ihd92hBPzVeE",
        "outputId": "c7a1d764-0cd9-4809-f0c2-a7cfe74d7316"
      },
      "outputs": [
        {
          "output_type": "stream",
          "name": "stdout",
          "text": [
            "Digite o tamanho da senha (ou 0 para sair): 5\n",
            "Senha gerada: fqlz8\n",
            "Digite o tamanho da senha (ou 0 para sair): 8\n",
            "Senha gerada: @jsfm!z3\n",
            "Digite o tamanho da senha (ou 0 para sair): 10\n",
            "Senha gerada: $9egc67kg4\n"
          ]
        }
      ],
      "source": [
        "import random\n",
        "\n",
        "caracteres = \"abcdefghijlmnopqrstuxzyk@$!123456798\"\n",
        "\n",
        "def gerar_senha(tamanho):\n",
        "    senha = \"\"\n",
        "    for i in range(tamanho):\n",
        "        senha += random.choice(caracteres)\n",
        "    return senha\n",
        "\n",
        "while True:\n",
        "    tamanho = int(input(\"Digite o tamanho da senha (ou 0 para sair): \"))\n",
        "    if tamanho == 0:\n",
        "        break\n",
        "    senha = gerar_senha(tamanho)\n",
        "    print(\"Senha gerada:\", senha)"
      ]
    },
    {
      "cell_type": "code",
      "source": [],
      "metadata": {
        "id": "S3YJC29N7XpF"
      },
      "execution_count": null,
      "outputs": []
    },
    {
      "cell_type": "code",
      "source": [],
      "metadata": {
        "id": "78oBnPy66nin"
      },
      "execution_count": 59,
      "outputs": []
    }
  ]
}