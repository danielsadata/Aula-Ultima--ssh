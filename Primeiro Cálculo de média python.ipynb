{
  "nbformat": 4,
  "nbformat_minor": 0,
  "metadata": {
    "colab": {
      "provenance": [],
      "authorship_tag": "ABX9TyPPcQzYuTLHz5w4S/ROaxim",
      "include_colab_link": true
    },
    "kernelspec": {
      "name": "python3",
      "display_name": "Python 3"
    },
    "language_info": {
      "name": "python"
    }
  },
  "cells": [
    {
      "cell_type": "markdown",
      "metadata": {
        "id": "view-in-github",
        "colab_type": "text"
      },
      "source": [
        "<a href=\"https://colab.research.google.com/github/danielsadata/Aula-Ultima--ssh/blob/main/Primeiro%20C%C3%A1lculo%20de%20m%C3%A9dia%20python.ipynb\" target=\"_parent\"><img src=\"https://colab.research.google.com/assets/colab-badge.svg\" alt=\"Open In Colab\"/></a>"
      ]
    },
    {
      "cell_type": "code",
      "execution_count": 5,
      "metadata": {
        "id": "LDAocFbZ1_2p"
      },
      "outputs": [],
      "source": [
        "n1 = 100 # tamanho da amostra 1\n",
        "x1 = 14.5 # média da idade da amostra 1"
      ]
    },
    {
      "cell_type": "markdown",
      "source": [],
      "metadata": {
        "id": "PIpHfvId2sbN"
      }
    },
    {
      "cell_type": "code",
      "source": [
        "n2 = 150 # tamanho da amostra 2\n",
        "x2 = 16.5 # média da idade da amostra 2\n"
      ],
      "metadata": {
        "id": "lavxVaxY2tj1"
      },
      "execution_count": 6,
      "outputs": []
    },
    {
      "cell_type": "code",
      "source": [
        "media_de_idade = (n1 * x1 + n2 *x2)/ (n1 + n2)\n",
        "print(media_de_idade)\n"
      ],
      "metadata": {
        "colab": {
          "base_uri": "https://localhost:8080/"
        },
        "id": "RglcwDCq3SC6",
        "outputId": "6c92dcba-a8b9-48ab-a3ef-115d0af4f5da"
      },
      "execution_count": 7,
      "outputs": [
        {
          "output_type": "stream",
          "name": "stdout",
          "text": [
            "15.7\n"
          ]
        }
      ]
    }
  ]
}